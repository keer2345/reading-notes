{
 "cells": [
  {
   "cell_type": "markdown",
   "id": "proof-first",
   "metadata": {},
   "source": [
    "**[Running Random Simulations in NumPy](https://livebook.manning.com/book/data-science-bookcamp/chapter-3/v-5/1)**\n",
    "\n",
    "> datasbook03 <> sharklasers.com 123456\n",
    "\n",
    "This section covers:\n",
    "- Basic usage of the NumPy library.\n",
    "- Simulating random observation using NumPy.\n",
    "- Visualizing simulated data.\n",
    "- Estimating unknown probabilities from simulated observations.\n",
    "\n",
    "\n",
    "\n",
    "NumPy, which stands for Numerical Python, is the engine that powers Pythonic data science. Python, despite its many virtues, is simply not suited for large-scale numeric analysis. Hence, data scientists must rely on the external NumPy library to efficiently manipulate and store numeric data. NumPy is an incredibly powerful tool for processing large collections of raw numbers. Thus, many of Python’s external data-processing libraries are NumPy-compatible. One such library is Matplotlib, which we introduced in the previous section. Other NumPy-driven libraries will be discussed in later portions of the book. This section focuses on randomized numerical simulations. We will leverage NumPy to analyze billions of random data-points. These random observations will allow us to learn hidden probabilities.\n",
    "\n",
    "# 3.1 Simulating Random Coin-Flips and Dice-Rolls Using NumPy\n",
    "\n",
    "Install `numpy` library:\n",
    "```\n",
    "pip install numpy\n",
    "```\n"
   ]
  },
  {
   "cell_type": "code",
   "execution_count": 331,
   "id": "bulgarian-holder",
   "metadata": {},
   "outputs": [],
   "source": [
    "import numpy as np\n",
    "import matplotlib.pyplot as plt"
   ]
  },
  {
   "cell_type": "code",
   "execution_count": 332,
   "id": "diverse-parliament",
   "metadata": {},
   "outputs": [],
   "source": [
    "dice_roll = np.random.randint(1, 7)\n",
    "assert 1 <= dice_roll <= 6"
   ]
  },
  {
   "cell_type": "markdown",
   "id": "critical-queue",
   "metadata": {},
   "source": [
    "Conveniently, consistency can easily be maintained by calling `np.random.seed(0)`. The method-call makes sequences of randomly chosen values reproducible. After the call, we can directly guarantee that our first three dice-rolls will land on values 5, 6, and 1."
   ]
  },
  {
   "cell_type": "code",
   "execution_count": 333,
   "id": "objective-minority",
   "metadata": {},
   "outputs": [],
   "source": [
    "np.random.seed(0)\n",
    "dice_rolls = [np.random.randint(1, 7) for _ in range(3)]\n",
    "assert dice_rolls == [5, 6, 1]"
   ]
  },
  {
   "cell_type": "markdown",
   "id": "determined-nothing",
   "metadata": {},
   "source": [
    "We’ll now use `np.random.randint(0, 2)` to simulate a single flip of an unbiased coin.The method-call returns a random value equal either to 0 or 1. Within the simulation, we’ll assume that 0 stands for tails, and 1 stands for heads.\n"
   ]
  },
  {
   "cell_type": "code",
   "execution_count": 334,
   "id": "gothic-branch",
   "metadata": {},
   "outputs": [
    {
     "data": {
      "text/plain": [
       "1"
      ]
     },
     "execution_count": 334,
     "metadata": {},
     "output_type": "execute_result"
    }
   ],
   "source": [
    "np.random.randint(0, 2)"
   ]
  },
  {
   "cell_type": "code",
   "execution_count": 335,
   "id": "studied-thanksgiving",
   "metadata": {},
   "outputs": [
    {
     "name": "stdout",
     "output_type": "stream",
     "text": [
      "Coin landed on tails\n"
     ]
    }
   ],
   "source": [
    "np.random.seed(0)\n",
    "coin_flip = np.random.randint(0, 2)\n",
    "print(f\"Coin landed on {'heads' if coin_flip == 1 else 'tails'}\")"
   ]
  },
  {
   "cell_type": "markdown",
   "id": "chemical-swaziland",
   "metadata": {},
   "source": [
    "Next, we’ll simulate a sequence of 10 coin-flips, and then compute the observed frequency of heads.\n",
    "\n",
    "Simulating 10 fair coin-flips:"
   ]
  },
  {
   "cell_type": "code",
   "execution_count": 336,
   "id": "international-marathon",
   "metadata": {},
   "outputs": [
    {
     "name": "stdout",
     "output_type": "stream",
     "text": [
      "Frequency of Heads is 0.8\n"
     ]
    }
   ],
   "source": [
    "np.random.seed(0)\n",
    "\n",
    "\n",
    "def frequency_heads(coin_flip_sequence):\n",
    "    total_heads = sum(coin_flip_sequence)\n",
    "    return total_heads / len(coin_flip_sequence)\n",
    "\n",
    "\n",
    "coin_flips = [np.random.randint(0, 2) for _ in range(10)]\n",
    "freq_heads = frequency_heads(coin_flips)\n",
    "print(f\"Frequency of Heads is {freq_heads}\")"
   ]
  },
  {
   "cell_type": "markdown",
   "id": "subsequent-water",
   "metadata": {},
   "source": [
    "Let's see what happens when we flip the coin 1000 times. After each flip, we will record the total frequency of heads observed in the sequence. Once the coin-flips are completed, we will visualize our output by plotting coin-flip count vs frequency count. Our plot will also include a horizontal line along the actual probability of .5. We’ll generate that line by calling `plt.axhline(.5, color='k')`."
   ]
  },
  {
   "cell_type": "code",
   "execution_count": 337,
   "id": "pleasant-acquisition",
   "metadata": {},
   "outputs": [
    {
     "data": {
      "image/png": "[encoded data removed]",
      "text/plain": [
       "<Figure size 432x288 with 1 Axes>"
      ]
     },
     "metadata": {
      "needs_background": "light"
     },
     "output_type": "display_data"
    }
   ],
   "source": [
    "np.random.seed(0)\n",
    "coin_flips = []\n",
    "frequencies = []\n",
    "for _ in range(1000):\n",
    "    coin_flips.append(np.random.randint(0, 2))\n",
    "    frequencies.append(frequency_heads(coin_flips))\n",
    "\n",
    "plt.plot(list(range(1000)), frequencies)\n",
    "plt.axhline(0.5, color=\"k\")\n",
    "plt.xlabel(\"Number of Coin Flips\")\n",
    "plt.ylabel(\"Head-Frequency\")\n",
    "plt.show()"
   ]
  },
  {
   "cell_type": "markdown",
   "id": "saved-professor",
   "metadata": {},
   "source": [
    "The probability of heads slowly converges to 0.5. Thus, the Law of Large Numbers appears to hold up.\n",
    "\n",
    "## 3.1.1  Analyzing Biased Coin-Flips\n",
    "\n",
    "We’ve simulated a sequence of unbiased coin-flips, but what if we wish to simulate a coin that falls on heads 70% of the time? Well, we can generate that biased output by calling `np.random.binomial(1, .7)`. The binomial method name refers to the generic coin-flip distribution, which mathematicians call the **Binomial distribution**. The method takes as input 2 parameters; the number of coin-flips, and the probability of the desired coin-flip outcome. The method executes the specified number of biased coin-flips. It then counts the instances when the desired outcome was observed. When the number of coin-flips is set to one, the method will return a binary of value of 0 or 1. In our case, a value of 1 represents our desired observation of heads."
   ]
  },
  {
   "cell_type": "code",
   "execution_count": 338,
   "id": "accompanied-biology",
   "metadata": {},
   "outputs": [
    {
     "name": "stdout",
     "output_type": "stream",
     "text": [
      "Let's flip the biased coin once.\n",
      "Biased coin landed on heads.\n",
      "\n",
      "Let's flip the biased coin 10 times.\n",
      "6 heads were observed out of 10 biased coin flips\n"
     ]
    }
   ],
   "source": [
    "np.random.seed(0)\n",
    "print(\"Let's flip the biased coin once.\")\n",
    "coin_flip = np.random.binomial(1, 0.7)\n",
    "print(f\"Biased coin landed on {'heads' if coin_flip == 1 else 'tails'}.\")\n",
    "\n",
    "print(\"\\nLet's flip the biased coin 10 times.\")\n",
    "number_coin_flips = 10\n",
    "head_count = np.random.binomial(number_coin_flips, 0.7)\n",
    "print(\n",
    "    (f\"{head_count} heads were observed out of {number_coin_flips} biased coin flips\")\n",
    ")"
   ]
  },
  {
   "cell_type": "markdown",
   "id": "silent-floor",
   "metadata": {},
   "source": [
    "Let's generate a sequence of 1000 biased coin-flips. We’ll then check if the frequency converges to 0.7."
   ]
  },
  {
   "cell_type": "code",
   "execution_count": 339,
   "id": "conventional-laugh",
   "metadata": {},
   "outputs": [
    {
     "name": "stdout",
     "output_type": "stream",
     "text": [
      "Frequency of Heads is 0.697\n"
     ]
    }
   ],
   "source": [
    "np.random.seed(0)\n",
    "head_count = np.random.binomial(1000, 0.7)\n",
    "frequency = head_count / 1000\n",
    "print(f\"Frequency of Heads is {frequency}\")"
   ]
  },
  {
   "cell_type": "markdown",
   "id": "fifty-union",
   "metadata": {},
   "source": [
    "The frequency of heads approximates 0.7, but is not actually equal to 0.7. In fact, the frequency-value is 0.003 units smaller than the true probability of heads. Suppose we re-compute the frequency of 1000 coin-flips five more times. Will all the frequencies be lower than 0.7? Will certain frequencies hit the exact value of 0.7? We’ll find out by executing `np.random.binomial(1000, .7)` over 5 looped iterations."
   ]
  },
  {
   "cell_type": "code",
   "execution_count": 340,
   "id": "norwegian-quick",
   "metadata": {},
   "outputs": [],
   "source": [
    "np.random.seed(0)\n",
    "assert np.random.binomial(1000, .7) / 1000 == 0.697"
   ]
  },
  {
   "cell_type": "code",
   "execution_count": 341,
   "id": "likely-distinction",
   "metadata": {},
   "outputs": [
    {
     "name": "stdout",
     "output_type": "stream",
     "text": [
      "Frequency at iteration 1 is 0.69\n",
      "Frequency at iteration 2 is 0.7\n",
      "Frequency equals the probability!\n",
      "\n",
      "Frequency at iteration 3 is 0.707\n",
      "Frequency at iteration 4 is 0.702\n",
      "Frequency at iteration 5 is 0.699\n"
     ]
    }
   ],
   "source": [
    "for i in range(1, 6):\n",
    "    head_count = np.random.binomial(1000, 0.7)\n",
    "    frequency = head_count / 1000\n",
    "    print(f\"Frequency at iteration {i} is {frequency}\")\n",
    "    if frequency==0.7:\n",
    "        print(\"Frequency equals the probability!\\n\")"
   ]
  },
  {
   "cell_type": "markdown",
   "id": "manual-nancy",
   "metadata": {},
   "source": [
    "Just one out the 5 iterations produced a measurement that equaled the real probability. Twice the measured frequency was slightly too low, and twice it was slightly too high. The observed frequency appears to fluctuate over every sampling of 1000 coin-flips. It seems that even though the Law of Large Numbers allows us to approximate the actual probability, some uncertainty still remains. Data science is somewhat messy, and we cannot always be certain of the conclusions we draw from our data. Nevertheless, our uncertainty can be measured and contained using what mathematicians call a confidence interval.\n",
    "\n",
    "# 3.2  Computing Confidence Intervals Using Histograms and NumPy Arrays\n",
    "\n",
    "Suppose we’re handed a biased coin whose bias we don’t know. We flip the coin 1000 times and observe a measured frequency of 0.709. We know the measured frequency approximates the actual probability, but by how much? More precisely, how confident are we that the actual probability falls within an interval of 0.691 to 0.709? Or that it falls between 0.609 and 0.709? Or between 0.4 and 0.8? Or between 0.0 and 1.0? Well, in the latter case, we are 100% confident that the probability falls within the all-encompassing interval of 0.0 to 1.0. As for the other intervals, we cannot compute their confidence without carrying out additional sampling.\n",
    "\n",
    "We’ve previously sampled our coin over 5 iterations of 1000 coin-flips each. The sampling produced some fluctuations in the frequency. Let's explore these fluctuations by increasing our frequency count from 5 to 500. One way to execute this supplementary sampling is to run `[np.random.binomial(1000, .7) for _ in range(500)]`."
   ]
  },
  {
   "cell_type": "code",
   "execution_count": 342,
   "id": "developed-craps",
   "metadata": {},
   "outputs": [],
   "source": [
    "np.random.seed(0)\n",
    "head_count_list = [np.random.binomial(1000, 0.7) for _ in range(500)]"
   ]
  },
  {
   "cell_type": "markdown",
   "id": "applicable-horizontal",
   "metadata": {},
   "source": [
    "However, we can more efficiently sample over 500 iterations by running `np.random.binomial(coin_flip_count, 0.7, size=500)`. The optional size parameter allows us to execute `np.random.binomial(coin_flip_count, 0.7)` 500 times while leveraging NumPy’s internal optimizations."
   ]
  },
  {
   "cell_type": "code",
   "execution_count": 343,
   "id": "consecutive-brain",
   "metadata": {},
   "outputs": [],
   "source": [
    "np.random.seed(0)\n",
    "head_count_array = np.random.binomial(1000, 0.7, 500)"
   ]
  },
  {
   "cell_type": "markdown",
   "id": "veterinary-salon",
   "metadata": {},
   "source": [
    "The output is not a Python list, but a NumPy array data-structure. As previously noted, NumPy arrays can more efficiently store numeric data. "
   ]
  },
  {
   "cell_type": "code",
   "execution_count": 344,
   "id": "intelligent-advisory",
   "metadata": {},
   "outputs": [],
   "source": [
    "assert head_count_array.tolist() == head_count_list"
   ]
  },
  {
   "cell_type": "markdown",
   "id": "initial-alloy",
   "metadata": {},
   "source": [
    "Conversely, we can also convert our Python list into a value-equivalent NumPy array by calling `np.array(head_count_list)`. "
   ]
  },
  {
   "cell_type": "code",
   "execution_count": 346,
   "id": "average-termination",
   "metadata": {},
   "outputs": [],
   "source": [
    "new_array = np.array(head_count_list)\n",
    "assert np.array_equal(new_array, head_count_array) == True"
   ]
  },
  {
   "cell_type": "markdown",
   "id": "quality-parcel",
   "metadata": {},
   "source": [
    "Why should we prefer to use a NumPy array over a standard Python list? Well, besides the aforementioned memory optimizations and analysis speed-ups, NumPy arrays offer certain interface improvements that make it easier for to implement clean code. One such improvement involves multiplication and division; dividing a NumPy array by some number will automatically divide all array elements by that number. The procedure will create a new array whose elements are properly divided. Thus, executing `head_count_array / 1000` will automatically transform our head-counts into frequencies associated with each coin-flip sampling. By contrast, computing frequencies in `head_count_list` requires that we either iterate over all elements in the list, or leverage Python’s convoluted built-in `map` function.\n",
    "\n",
    "**Useful NumPy method-calls for running random simulations:**\n",
    "\n",
    "- `np.random.randint(x, y)`: Returns an random integer between `x` and `y-1`, inclusive.\n",
    "- `np.random.binomial(1, p)`: Returns a single random value equal to 0 or 1. The. probability that the value equals 1 is `p`.\n",
    "- `np.random.binomial(x, p)`: Runs `x` instances of `np.random.binomial(1, p)` and return the summed result. The returned value represents the number of non-zero observations across `x` samples.\n",
    "- `np.random.binomial(x, p, size=y) / x`: Returns an array of `y` elements. Each element represents the frequency of non-zero observations across `x` samples.\n",
    "\n",
    "**Computing frequencies using NumPy:**"
   ]
  },
  {
   "cell_type": "code",
   "execution_count": 347,
   "id": "encouraging-humidity",
   "metadata": {},
   "outputs": [],
   "source": [
    "frequency_array = head_count_array / 1000\n",
    "assert frequency_array.tolist() == [head_count / 1000 for head_count in head_count_list]\n",
    "assert frequency_array.tolist() == list(map(lambda x: x / 1000, head_count_list))"
   ]
  },
  {
   "cell_type": "markdown",
   "id": "optional-eugene",
   "metadata": {},
   "source": [
    "We’ve converted our head-count array into a frequency array using a simple division operation. Let's explore the contents of frequency_array in greater detail.\n",
    "\n",
    "We’ll start by outputting the first 20 sampled frequencies using the same : index-slicing delimiter that is utilized by Python lists. Please note that unlike a printed list, the NumPy array will not contain commas in its output."
   ]
  },
  {
   "cell_type": "code",
   "execution_count": 348,
   "id": "manufactured-nepal",
   "metadata": {},
   "outputs": [
    {
     "name": "stdout",
     "output_type": "stream",
     "text": [
      "[0.697 0.69  0.7   0.707 0.702 0.699 0.723 0.67  0.702 0.713 0.721 0.689\n",
      " 0.711 0.697 0.717 0.691 0.731 0.697 0.722 0.728]\n"
     ]
    }
   ],
   "source": [
    "print(frequency_array[:20])"
   ]
  },
  {
   "cell_type": "code",
   "execution_count": 349,
   "id": "alien-discount",
   "metadata": {},
   "outputs": [
    {
     "name": "stdout",
     "output_type": "stream",
     "text": [
      "Minimum frequency observed: 0.656\n",
      "Maximum frequency observed: 0.733\n",
      "Difference across frequency range: 0.07699999999999996\n"
     ]
    }
   ],
   "source": [
    "min_freq = frequency_array.min()\n",
    "max_freq = frequency_array.max()\n",
    "print(f\"Minimum frequency observed: {min_freq}\")\n",
    "print(f\"Maximum frequency observed: {max_freq}\")\n",
    "print(f\"Difference across frequency range: {max_freq - min_freq}\")"
   ]
  },
  {
   "cell_type": "markdown",
   "id": "judicial-upset",
   "metadata": {},
   "source": [
    "Somewhere between the frequency range of 0.656 to 0.733 lies the true probability of heads. That interval span is noticeably large, with a more than 7% difference between the largest and smallest sampled frequencies. How can we rationally narrow the frequency range? Plotting the data could help. We’ll plot all unique frequencies against their occurrence counts."
   ]
  },
  {
   "cell_type": "code",
   "execution_count": 350,
   "id": "younger-house",
   "metadata": {},
   "outputs": [
    {
     "data": {
      "image/png": "[encoded data removed]",
      "text/plain": [
       "<Figure size 432x288 with 1 Axes>"
      ]
     },
     "metadata": {
      "needs_background": "light"
     },
     "output_type": "display_data"
    }
   ],
   "source": [
    "from collections import defaultdict\n",
    "\n",
    "frequency_counts = defaultdict(int)\n",
    "for frequency in frequency_array:\n",
    "    frequency_counts[frequency] += 1\n",
    "\n",
    "frequencies = list(frequency_counts.keys())\n",
    "counts = [frequency_counts[freq] for freq in frequencies]\n",
    "\n",
    "plt.scatter(frequencies, counts)\n",
    "plt.xlabel(\"Frequency\")\n",
    "plt.ylabel(\"Count\")\n",
    "plt.show()"
   ]
  },
  {
   "cell_type": "markdown",
   "id": "bridal-learning",
   "metadata": {},
   "source": [
    "The visualization is informative; frequencies close to 0.7 occur more commonly than frequencies located further away. However, our plot is also somewhat flawed, since values that are very close get counted separately. These nearly identical frequencies appear as overlapping dots within the plot. Perhaps instead of treating them as individual points, we should group such proximate frequencies together.\n",
    "\n",
    "## 3.2.1  Binning Similar Points in Histogram Plots\n",
    "\n",
    "Let's try a more nuanced visualization by binning together frequencies that are in close vicinity of each other. We’ll sub-divide our frequency range into N equally spaced bins, and then place all frequency values into one of those bins. By definition, the values in any given bin will be at most 1/N units apart. Afterwards, we’ll count the total values in each bin, and visualize the counts using a plot.\n",
    "\n",
    "The binned-based plot we just described is called a **histogram**. Histograms are easy to display in Matplotlib using the `plt.hist` method. The method takes as input the sequence of values to be binned, as well an optional `bins` parameter. Thus, calling `plt.hist(frequency_array, bins='77')` will split our data across 77 bins, each covering a width of .01 units. Also, we can optionally pass in `bin=auto`, and Matplotlib will select an appropriate bin-width using a widely accepted optimization technique (the details of which are beyond the scope of this book). Let's plot a histogram while optimizing bin-width by calling `plt.hist(frequency_array, bins='auto')`. NOTE: Within the code below, we also include an `edgecolor='black'` parameter. This helps us visually distinguish the boundaries between bins by coloring the bin-edges in black.\n",
    "\n",
    "**Plotting a frequency histogram using `plt.hist`**"
   ]
  },
  {
   "cell_type": "code",
   "execution_count": 351,
   "id": "computational-illness",
   "metadata": {},
   "outputs": [
    {
     "data": {
      "image/png": "[encoded data removed]",
      "text/plain": [
       "<Figure size 432x288 with 1 Axes>"
      ]
     },
     "metadata": {
      "needs_background": "light"
     },
     "output_type": "display_data"
    }
   ],
   "source": [
    "plt.hist(frequency_array, bins=\"auto\", edgecolor=\"black\")\n",
    "plt.xlabel(\"Binned Frequency\")\n",
    "plt.ylabel(\"Count\")\n",
    "plt.show()"
   ]
  },
  {
   "cell_type": "markdown",
   "id": "generous-ready",
   "metadata": {},
   "source": [
    "**Counting bins in a plotted histogram:**"
   ]
  },
  {
   "cell_type": "code",
   "execution_count": 352,
   "id": "independent-punishment",
   "metadata": {},
   "outputs": [
    {
     "name": "stdout",
     "output_type": "stream",
     "text": [
      "Number of Bins: 16\n"
     ]
    },
    {
     "data": {
      "image/png": "[encoded data removed]",
      "text/plain": [
       "<Figure size 432x288 with 1 Axes>"
      ]
     },
     "metadata": {
      "needs_background": "light"
     },
     "output_type": "display_data"
    }
   ],
   "source": [
    "counts, bin_edges, _ = plt.hist(frequency_array, bins=\"auto\", edgecolor=\"black\")\n",
    "print(f\"Number of Bins: {counts.size}\")"
   ]
  },
  {
   "cell_type": "code",
   "execution_count": 353,
   "id": "driven-backing",
   "metadata": {},
   "outputs": [
    {
     "name": "stdout",
     "output_type": "stream",
     "text": [
      "Bin width: 0.004812499999999997\n"
     ]
    }
   ],
   "source": [
    "bin_width = bin_edges[1] - bin_edges[0]\n",
    "assert bin_width == (max_freq - min_freq) / counts.size\n",
    "print(f\"Bin width: {bin_width}\")"
   ]
  },
  {
   "cell_type": "markdown",
   "id": "underlying-spectrum",
   "metadata": {},
   "source": [
    "**Getting a bin’s frequency and size:**"
   ]
  },
  {
   "cell_type": "code",
   "execution_count": 354,
   "id": "antique-america",
   "metadata": {},
   "outputs": [
    {
     "name": "stdout",
     "output_type": "stream",
     "text": [
      "The bin for frequency range 0.656 - 0.6608125 contains 1 element\n",
      "The bin for frequency range 0.6800625 - 0.684875 contains 20 elements\n"
     ]
    }
   ],
   "source": [
    "def output_bin_coverage(i):\n",
    "    count = int(counts[i])\n",
    "    range_start, range_end = bin_edges[i], bin_edges[i + 1]\n",
    "    range_string = f\"{range_start} - {range_end}\"\n",
    "    print(\n",
    "        (\n",
    "            f\"The bin for frequency range {range_string} contains \"\n",
    "            f\"{count} element{'' if count == 1 else 's'}\"\n",
    "        )\n",
    "    )\n",
    "output_bin_coverage(0)\n",
    "output_bin_coverage(5)"
   ]
  },
  {
   "cell_type": "markdown",
   "id": "coordinated-camera",
   "metadata": {},
   "source": [
    "Let’s compute the count and frequency range for the highest peak within our histogram. For this, we’ll need the index of `counts.max()`. Conveniently, NumPy arrays have a built-in `argmax` method, which returns the index of the maximum value within a given array.\n",
    "\n",
    "**Finding the index of an array’s maximum value:**"
   ]
  },
  {
   "cell_type": "code",
   "execution_count": 355,
   "id": "pharmaceutical-asbestos",
   "metadata": {},
   "outputs": [],
   "source": [
    "assert counts[counts.argmax()] == counts.max()"
   ]
  },
  {
   "cell_type": "code",
   "execution_count": 356,
   "id": "coupled-statement",
   "metadata": {},
   "outputs": [
    {
     "name": "stdout",
     "output_type": "stream",
     "text": [
      "The bin for frequency range 0.6945 - 0.6993125 contains 72 elements\n"
     ]
    }
   ],
   "source": [
    "output_bin_coverage(counts.argmax())"
   ]
  },
  {
   "cell_type": "markdown",
   "id": "suspected-brain",
   "metadata": {},
   "source": [
    "## 3.2.2  Deriving Probabilities from Histograms\n",
    "\n",
    "The most occupied bin within the histogram contains 72 elements. That bin covers a frequency range of approximately 0.694 - 0.699. At this point we should ask ourselves; does the actual probability of heads fall within that range? Well obviously it doesn’t, since we know the true probability equals 0.7. However, let’s imagine that we lacked this information. What would we do then? One option would be to calculate the likelihood that a randomly measured frequency falls within 0.694 - 0.699. If that likelihood were 1.0, then 100% of measured frequencies would be covered by the range. These measured frequencies would occasionally include the actual probability of heads. Therefore, we would be 100% confident that our true probability lies somewhere between 0.694 and 0.699. Even if the likelihood were lower, at 95%, we would still be fairly confident that the range enclosed our true probability value.\n",
    "\n",
    "How should we calculate the likelihood? Earlier, we showed that the likelihood of an interval equals its area under a curve, but only when the total plotted area sums up to 1.0. Unfortunately, the area beneath our plotted histogram does not sum to 1.0. The histogram must be modified prior to our likelihood computation. This can be done by passing `density=True` into `plt.hist`. The passed parameter will maintain the histogram’s shape while forcing its summed area to equal 1.0.\n",
    "\n",
    "**Plotting a histogram’s relative likelihoods:**"
   ]
  },
  {
   "cell_type": "code",
   "execution_count": 357,
   "id": "broken-electric",
   "metadata": {},
   "outputs": [
    {
     "data": {
      "image/png": "[encoded data removed]",
      "text/plain": [
       "<Figure size 432x288 with 1 Axes>"
      ]
     },
     "metadata": {
      "needs_background": "light"
     },
     "output_type": "display_data"
    }
   ],
   "source": [
    "likelihoods, bin_edges, _ = plt.hist(\n",
    "    frequency_array, bins=\"auto\", edgecolor=\"black\", density=True\n",
    ")\n",
    "plt.xlabel(\"Binned Frequency\")\n",
    "plt.ylabel(\"Relative Likelihood\")\n",
    "plt.show()"
   ]
  },
  {
   "cell_type": "markdown",
   "id": "sensitive-techno",
   "metadata": {},
   "source": [
    "In our new histogram, the counts have been replaced by relative likelihoods, which are stored within the likelihoods array. As mentioned previously, **relative likelihood** is a term applied to the y-values of a plot whose area sums to 1.0. Of course, the area beneath our histogram now sums to 1.0. We can compute that area by summing the area of each bin. The rectangular area of each bin is equal to its vertical likelihood-value multiplied by bin_width. Hence, the area beneath the histogram is equal to the summed likelihoods multiplied by `bin_width`. We can calculate the summed likelihoods by calling `likelihoods.sum()`. Consequently, the area equals `likelihoods.sum() * bin_width`, which equals 1.0."
   ]
  },
  {
   "cell_type": "code",
   "execution_count": 358,
   "id": "confirmed-discharge",
   "metadata": {},
   "outputs": [],
   "source": [
    "assert likelihoods.sum() * bin_width == 1.0"
   ]
  },
  {
   "cell_type": "markdown",
   "id": "quick-hierarchy",
   "metadata": {},
   "source": [
    "The histogram’s total area sums to 1.0. Thus, the area beneath the histogram’s peak is now a probability. As previously discussed, this is the probability of a randomly sampled frequency falling with the 0.694 - 0.699 interval range. We can compute that probability by calculating the area of the bin positioned at `likelihoods.argmax()`.\n",
    "\n",
    "**Computing the probability of the peak frequencies:**"
   ]
  },
  {
   "cell_type": "code",
   "execution_count": 359,
   "id": "bored-wales",
   "metadata": {},
   "outputs": [
    {
     "name": "stdout",
     "output_type": "stream",
     "text": [
      "Sampled frequency falls within interval 0.6945 - 0.6993125 with probability 0.144\n"
     ]
    }
   ],
   "source": [
    "index = likelihoods.argmax()\n",
    "area = likelihoods[index] * bin_width\n",
    "range_start, range_end = bin_edges[index], bin_edges[index + 1]\n",
    "range_string = f\"{range_start} - {range_end}\"\n",
    "print(f\"Sampled frequency falls within interval {range_string} with probability {area}\")"
   ]
  },
  {
   "cell_type": "markdown",
   "id": "subject-stroke",
   "metadata": {},
   "source": [
    "The probability is approximately 14%. That value is low, but we can raise it by expanding our interval range beyond one bin. We’ll stretch the range to cover neighboring bins at indices `likelihoods.argmax() - 1` and `likelihoods.argmax() + 2`.\n",
    "\n",
    "**Raising the probability of a frequency range:**"
   ]
  },
  {
   "cell_type": "code",
   "execution_count": 360,
   "id": "binding-paragraph",
   "metadata": {},
   "outputs": [
    {
     "name": "stdout",
     "output_type": "stream",
     "text": [
      "Sampled frequency falls within interval 0.6896875 - 0.704125 with probability 0.464\n"
     ]
    }
   ],
   "source": [
    "peak_index = likelihoods.argmax()\n",
    "start_index, end_index = (peak_index - 1, peak_index + 2)\n",
    "area = likelihoods[start_index : end_index + 1].sum() * bin_width\n",
    "range_start, range_end = bin_edges[start_index], bin_edges[end_index]\n",
    "range_string = f\"{range_start} - {range_end}\"\n",
    "print(f\"Sampled frequency falls within interval {range_string} with probability {area}\")"
   ]
  },
  {
   "cell_type": "markdown",
   "id": "fossil-mortality",
   "metadata": {},
   "source": [
    "The three bins cover a frequency range of approximately 0.689 - 0.704. Their associated probability is 0.464. Thus, the three bins represent what statisticians call a 46.4% **confidence interval**. Basically, this means we are 46.4% confident that our true probability falls within the three-bin range. The calculated confidence percentage is still too low. Ideally, we’d prefer a confidence interval of 95% or more. We’ll reach that confidence interval by iteratively expanding our left-most bin and right-most bin until the interval area stretches past 0.95.\n",
    "\n",
    "**Computing a high confidence interval:**"
   ]
  },
  {
   "cell_type": "code",
   "execution_count": 361,
   "id": "revised-arrest",
   "metadata": {},
   "outputs": [
    {
     "name": "stdout",
     "output_type": "stream",
     "text": [
      "The frequency range 0.670438 - 0.723375 represents a 95.40% confidence interval\n"
     ]
    },
    {
     "data": {
      "text/plain": [
       "(3, 14)"
      ]
     },
     "execution_count": 361,
     "metadata": {},
     "output_type": "execute_result"
    }
   ],
   "source": [
    "def compute_high_confidence_interval(likelihoods, bin_width):\n",
    "    peak_index = likelihoods.argmax()\n",
    "    area = likelihoods[peak_index] * bin_width\n",
    "    start_index, end_index = peak_index, peak_index + 1\n",
    "    while area < 0.95:\n",
    "        if start_index > 0:\n",
    "            start_index -= 1\n",
    "        if end_index < likelihoods.size - 1:\n",
    "            end_index += 1\n",
    "\n",
    "        area = likelihoods[start_index : end_index + 1].sum() * bin_width\n",
    "\n",
    "    range_start, range_end = bin_edges[start_index], bin_edges[end_index]\n",
    "    range_string = f\"{range_start:.6f} - {range_end:.6f}\"\n",
    "    print(\n",
    "        (\n",
    "            f\"The frequency range {range_string} represents a \"\n",
    "            f\"{100 * area:.2f}% confidence interval\"\n",
    "        )\n",
    "    )\n",
    "    return start_index, end_index\n",
    "\n",
    "\n",
    "compute_high_confidence_interval(likelihoods, bin_width)"
   ]
  },
  {
   "cell_type": "markdown",
   "id": "elementary-brass",
   "metadata": {},
   "source": [
    "The frequency range of roughly 0.670 - 0.723 represents a 95.4% confidence interval. Thus, a sampled sequence of 1000 biased coin-flips should fall within that range 95.4% of the time. From our analysis, we’re fairly confident that the true probability lies somewhere between 0.670 and 0.723. However, that actual probability range is too ambiguous to be informative. Is the true probability equal to 0.67? Or 0.69? Or 0.72? Based on the data, we cannot say for sure. We’ll need to somehow narrow down that range in order to obtain a more certain probability estimation.\n",
    "\n",
    "## 3.2.3  Shrinking the Range of a High Confidence Interval\n",
    "\n",
    "How can we taper down our range while still maintaining a 95% confidence interval? Perhaps we should try elevating the frequency count from 500 to something noticeably larger. Previously, we’ve sampled 500 frequencies, where each frequency represented 1000 biased coin flips. Instead, let's sample 100,000 frequencies while keeping the flip-count constant at 1000.\n",
    "\n",
    "**Sampling 100,000 frequencies:**"
   ]
  },
  {
   "cell_type": "code",
   "execution_count": 362,
   "id": "regulated-encoding",
   "metadata": {},
   "outputs": [],
   "source": [
    "np.random.seed(0)\n",
    "head_count_array = np.random.binomial(1000, 0.7, 100000)\n",
    "frequency_array = head_count_array / 1000\n",
    "assert frequency_array.size == 100000"
   ]
  },
  {
   "cell_type": "code",
   "execution_count": 363,
   "id": "alone-framework",
   "metadata": {},
   "outputs": [
    {
     "name": "stdout",
     "output_type": "stream",
     "text": [
      "The frequency range 0.670429 - 0.727857 represents a 95.42% confidence interval\n"
     ]
    },
    {
     "data": {
      "image/png": "[encoded data removed]",
      "text/plain": [
       "<Figure size 432x288 with 1 Axes>"
      ]
     },
     "metadata": {
      "needs_background": "light"
     },
     "output_type": "display_data"
    }
   ],
   "source": [
    "likelihoods, bin_edges, patches = plt.hist(\n",
    "    frequency_array, bins=\"auto\", edgecolor=\"k\", density=True\n",
    ")\n",
    "bin_width = bin_edges[1] - bin_edges[0]\n",
    "start_index, end_index = compute_high_confidence_interval(likelihoods, bin_width)\n",
    "\n",
    "for i in range(start_index, end_index):\n",
    "    patches[i].set_facecolor(\"yellow\")\n",
    "    \n",
    "plt.xlabel(\"Binned Frequency\")\n",
    "plt.ylabel(\"Relative Likelihood\")\n",
    "plt.show()"
   ]
  },
  {
   "cell_type": "markdown",
   "id": "perfect-dream",
   "metadata": {},
   "source": [
    "The recomputed histogram resembles a symmetric bell-shaped curve. Many of its bars have been highlighted using the `set_facecolor` method. The highlighted bars represent a 95% confidence interval. The interval covers a frequency range of roughly 0.670 - 0.727. This new frequency range is nearly identical to the one we saw before. Raising the sampling size from 500 to 100,000 appears to have done little to reduce the range. How disappointing!\n",
    "\n",
    "What should we do to narrow the range? Well, we’ve already tried raising the frequency count, and that didn’t work. Perhaps we should’ve also raised the number of coin-flips per frequency-sample. Previously that value was 1000. Let's increase it 50-fold to 50,000 coin-flips per sampled frequency. We’ll keep the frequency sample-size steady at 100,000. Thus, our total sampling will amount to 5 billion flipped coins.\n",
    "\n",
    "**Sampling 5 billion flipped coins:**"
   ]
  },
  {
   "cell_type": "code",
   "execution_count": 324,
   "id": "addressed-jefferson",
   "metadata": {},
   "outputs": [
    {
     "name": "stdout",
     "output_type": "stream",
     "text": [
      "The frequency range 0.695769 - 0.703708 represents a 95.06% confidence interval\n"
     ]
    },
    {
     "data": {
      "image/png": "[encoded data removed]",
      "text/plain": [
       "<Figure size 432x288 with 1 Axes>"
      ]
     },
     "metadata": {
      "needs_background": "light"
     },
     "output_type": "display_data"
    }
   ],
   "source": [
    "np.random.seed(0)\n",
    "head_count_array = np.random.binomial(50000, 0.7, 100000)\n",
    "frequency_array = head_count_array / 50000\n",
    "\n",
    "likelihoods, bin_edges, patches = plt.hist(\n",
    "    frequency_array, bins=\"auto\", edgecolor=\"black\", density=True\n",
    ")\n",
    "bin_width = bin_edges[1] - bin_edges[0]\n",
    "start_index, end_index = compute_high_confidence_interval(likelihoods, bin_width)\n",
    "\n",
    "for i in range(start_index, end_index):\n",
    "    patches[i].set_facecolor(\"yellow\")\n",
    "plt.xlabel(\"Binned Frequency\")\n",
    "plt.ylabel(\"Relative Likelihood\")\n",
    "\n",
    "plt.show()"
   ]
  },
  {
   "cell_type": "markdown",
   "id": "personal-square",
   "metadata": {},
   "source": [
    "On a separate note, the shape of our updated histogram once again resembled a bell-shaped curve. That bell-shaped probability distribution is called a **Gaussian distribution**. It is more commonly known as the **Bell curve**, or the **Normal distribution**. The Normal distribution is incredibly important to probability theory and statistics. The importance arises from a mathematical law known as the **Central Limit Theorem**. According to the theorem, sampled frequency-distributions will take the shape of a Normal distribution, when the number of samples is large. Furthermore, the theorem predicts a narrowing of likely frequencies as the size of each frequency-sample goes up. This is perfectly consistent with our observations, which are summarized below.\n",
    "\n",
    "## 3.2.4  Computing Histograms in NumPy\n",
    "\n",
    "Calling the plt.hist method will automatically generate a histogram plot. Can we obtain the histogram likelihoods and bin-edges without creating a plot? Yes; because plt.hist does not actually rely on Matplotlib to compute the histogram. Instead, it passes certain histogram parameters into Numpy’s np.histogram method. This method takes as input all parameters that don’t relate to histogram visualization. These include frequency_arrays, bins='auto', and density=True. The method outputs the 2 variables not associated with plot manipulation: likelihoods, and bin_edges. Therefore, we can run compute_high_confidence_interval while bypassing visualization. We simply need to call np.histogram.\n",
    "\n",
    "**Computing a histogram using `np.histogram`:**"
   ]
  },
  {
   "cell_type": "code",
   "execution_count": 326,
   "id": "impressed-limitation",
   "metadata": {},
   "outputs": [
    {
     "name": "stdout",
     "output_type": "stream",
     "text": [
      "The frequency range 0.695769 - 0.703708 represents a 95.06% confidence interval\n"
     ]
    },
    {
     "data": {
      "text/plain": [
       "(47, 114)"
      ]
     },
     "execution_count": 326,
     "metadata": {},
     "output_type": "execute_result"
    }
   ],
   "source": [
    "np.random.seed(0)\n",
    "likelihoods, bin_edges = np.histogram(frequency_array, bins=\"auto\", density=True)\n",
    "bin_width = bin_edges[1] - bin_edges[0]\n",
    "compute_high_confidence_interval(likelihoods, bin_width)"
   ]
  },
  {
   "cell_type": "markdown",
   "id": "documentary-humanity",
   "metadata": {},
   "source": [
    "**Useful histogram functions:**\n",
    "- `plt.hist(data, num_bins=10)`: Plots a histogram in which the elements of `data` are distributed across 10 equally spaced bins.\n",
    "- `plt.hist(data, num_bins=auto)`: Plots a histogram whose bin-count is determined automatically, based on the data distribution. `auto` is the default setting of `num_bins`.\n",
    "- `plt.hist(data, edges=black)`: In the plotted histogram, the edges of each bin get marked by black vertical lines.\n",
    "- `counts, _, _ = plt.hist(data)`: The `counts` array is the first of the 3 variables returned by `plt.hist`. It holds the count of elements contained within each bin. These counts appear in y-axis of the histogram plot.\n",
    "- `_, bin_edges, _ = plt.hist(data)`: The `bin_edges array` is the second of the 3 variables returned by `plt.hist`. It holds the x-axis positions of the vertical bin edges in the plot. Subtracting `bin_edges[i]` from `bin_edges[i + 1]` will return the width of every bin. Multiplying the width by `counts[i]` will return the area of the rectangular bin at position `i`.\n",
    "- `likelihoods, _, _ = plt.hist(data, density=True)`: The binned counts are transformed into likelihoods, so that area beneath the histogram sums to 1.0. Thus, the histogram is transformed into a probability distribution. Multiplying the bin-width by `likelihoods[i]` returns the probability of a random outcome falling within a range of `bin_edges[i] - bin_edges[i +1]`.\n",
    "- `_, _, patches = plt.hist(data)`: The `patches` list is the third of the 3 variables returned by `plt.hist`. The graphical settings of each bin at index i are stored in `patches[i]`. Calling `patches[i].set_facecolor('yellow')` will change the color of the histogram bin at position `i`.\n",
    "- l`ikelihoods, bin_edges = np.histogram(data, density=True)`: Returns the histogram likelihoods and bin-edges without actually plotting the results.\n",
    "\n",
    "# 3.3  Leveraging Confidence Intervals to Analyze a Biased Deck of Cards\n",
    "\n",
    "Suppose you’re shown a biased deck of cards. The deck holds 52 cards total. Each card is either red or black. How many red cards are present in the deck? You can answer this by counting all the red cards one-by-one, but that would be too easy. Let's add a constraint to make the problem more interesting. You are only allowed to see the first card in the deck! None of the other cards are accessible. If you wish to see a new card, you must first reshuffle the deck. You’re permitted to reshuffle as many times as you like, and to view the top card after each shuffle.\n",
    "\n",
    "Given these constraints, we must solve the problem using random sampling. Let's begin by modelling a deck with a hidden quantity of red cards. The total size of that deck is 52. The number of red cards in the deck is some unknown integer between zero and 52. Let's generate that integer using the `np.random.randint method`. We’ll keep the value of our random `red_card_count` hidden from view until we’ve found a solution using sampling.\n",
    "\n",
    "**Generating a random red card count**"
   ]
  },
  {
   "cell_type": "code",
   "execution_count": 392,
   "id": "corrected-knock",
   "metadata": {},
   "outputs": [],
   "source": [
    "np.random.seed(0)\n",
    "total_cards = 52\n",
    "red_card_count = np.random.randint(0, total_cards + 1)"
   ]
  },
  {
   "cell_type": "markdown",
   "id": "greenhouse-amino",
   "metadata": {},
   "source": [
    "Now let's assign a value to `black_card_count`. We’ll leverage the fact that `red_card_count` and `black_card_count` must sum to 52 cards total. We’ll also maintain bias by ensuring that the two counts are not equal.\n",
    "\n",
    "**Generating a black card count**"
   ]
  },
  {
   "cell_type": "code",
   "execution_count": 395,
   "id": "decreased-flexibility",
   "metadata": {},
   "outputs": [],
   "source": [
    "black_card_count = total_cards - red_card_count\n",
    "assert black_card_count != red_card_count"
   ]
  },
  {
   "cell_type": "markdown",
   "id": "literary-toner",
   "metadata": {},
   "source": [
    "During the modeling phase, we’ll shuffle the deck and flip over the first card. What is the probability the card will be red? Well, a red card represents one of 2 possible outcomes; red or black. These outcomes can be characterized by the sample space `{'red_card', 'black_card'}`, but only when the 2 outcomes are equally likely. However, our card deck is biased, and the outcomes are not equally likely. Their likelihoods are weighted by `red_card_count` and `black_card_count`. A weighted sample space dictionary is therefore required. The values of the dictionary will equal `red_card_count` and `black_card_count`. We’ll label the associated keys as `'red_card'` and `'black_card'`. Passing `weighted_sample_space` into `compute_event_probability` will allow us to compute the probability of drawing a red card.\n",
    "\n",
    "**Computing card probabilities using a sample space**"
   ]
  },
  {
   "cell_type": "markdown",
   "id": "external-monkey",
   "metadata": {},
   "source": [
    "def get_event(event_condition, sample_space):\n",
    "    return set([outcome for outcome in sample_space if event_condition(outcome)])\n",
    "\n",
    "\n",
    "def compute_event_probability(event_condition, generic_sample_space):\n",
    "    event = get_event(event_condition, generic_sample_space)\n",
    "    if type(generic_sample_space) == type(set()):\n",
    "        return len(event) / len(generic_sample_space)\n",
    "    event_size = sum(generic_sample_space[outcome] for outcome in event)\n",
    "    return event_size / sum(generic_sample_space.values())\n",
    "\n",
    "\n",
    "weighted_sample_sample = {\"red_card\": red_card_count, \"black_card\": black_card_count}\n",
    "prob_red = compute_event_probability(lambda x: x == \"red_card\", weighted_sample_sample)"
   ]
  },
  {
   "cell_type": "code",
   "execution_count": 420,
   "id": "usual-advertiser",
   "metadata": {},
   "outputs": [],
   "source": [
    "assert prob_red == red_card_count / total_cards"
   ]
  },
  {
   "cell_type": "markdown",
   "id": "primary-arlington",
   "metadata": {},
   "source": [
    "How should we utilize `prob_red` to model a flipped-over first card? Well, the card-flip will produce one of 2 possible outputs; red or black. Conceptually, these 2 outputs are no different from a coin-flip. We’ve simply replaced heads and tails with red and black. Therefore, we can model the flipped card using the Binomial distribution. Calling `np.random.binomial(1, prob_red)` will return 1 if the first card is red, and 0 otherwise.\n",
    "\n",
    "**Simulating a random card**"
   ]
  },
  {
   "cell_type": "code",
   "execution_count": 424,
   "id": "dress-collector",
   "metadata": {},
   "outputs": [
    {
     "name": "stdout",
     "output_type": "stream",
     "text": [
      "The first card in the shuffled deck is red\n"
     ]
    }
   ],
   "source": [
    "np.random.seed(0)\n",
    "color = \"red\" if np.random.binomial(1, prob_red) else \"black\"\n",
    "print(f\"The first card in the shuffled deck is {color}\")"
   ]
  },
  {
   "cell_type": "markdown",
   "id": "musical-profit",
   "metadata": {},
   "source": [
    "We’ll proceed to shuffle the deck 10 times, and flip over the first card after each shuffle.\n",
    "\n",
    "**Simulating 10 random cards**"
   ]
  },
  {
   "cell_type": "code",
   "execution_count": 427,
   "id": "exotic-toner",
   "metadata": {},
   "outputs": [
    {
     "name": "stdout",
     "output_type": "stream",
     "text": [
      "In 8 of out 10 shuffles, a red card came up first.\n"
     ]
    }
   ],
   "source": [
    "np.random.seed(0)\n",
    "red_count = np.random.binomial(10, prob_red)\n",
    "print(f\"In {red_count} of out 10 shuffles, a red card came up first.\")"
   ]
  },
  {
   "cell_type": "markdown",
   "id": "documented-middle",
   "metadata": {},
   "source": [
    "A red card appeared at the top of the deck in 8 out of 10 random shuffles. Does this mean that 80% of the cards are red? Of course not. We’ve previously shown how such outcomes are common when the sampling size is low. Instead of shuffling the deck 10 times, let's shuffle it 50,000 times. Afterwards, let's compute the frequency and then re-do the shuffling procedure another 100,000 times. We’ll execute these steps by calling `np.random.binomial(50000, prob_red, 100000)` and dividing by 50,000. The resulting frequency array can transformed into a histogram. That histogram will allow us to compute a 95% confidence interval for flipping over a red card. We’ll compute the confidence interval by expanding the range of bins around the histogram’s peak until that range covers 95% of the histogram’s area.\n",
    "\n",
    "**Computing card-probability confidence intervals**"
   ]
  },
  {
   "cell_type": "code",
   "execution_count": 432,
   "id": "further-singles",
   "metadata": {},
   "outputs": [
    {
     "name": "stdout",
     "output_type": "stream",
     "text": [
      "The frequency range 0.842865 - 0.849139 represents a 95.16% confidence interval\n"
     ]
    }
   ],
   "source": [
    "np.random.seed(0)\n",
    "red_card_count_array = np.random.binomial(50000, prob_red, 100000)\n",
    "frequency_array = red_card_count_array / 50000\n",
    "likelihoods, bin_edges = np.histogram(frequency_array, bins=\"auto\", density=True)\n",
    "bin_width = bin_edges[1] - bin_edges[0]\n",
    "start_index, end_index = compute_high_confidence_interval(likelihoods, bin_width)"
   ]
  },
  {
   "cell_type": "markdown",
   "id": "treated-carry",
   "metadata": {},
   "source": [
    "**Estimating the red card count**"
   ]
  },
  {
   "cell_type": "code",
   "execution_count": 434,
   "id": "bridal-hospital",
   "metadata": {},
   "outputs": [
    {
     "name": "stdout",
     "output_type": "stream",
     "text": [
      "The number of red cards in the deck is between 44 and 44\n"
     ]
    }
   ],
   "source": [
    "range_start = round(0.842771 * total_cards)\n",
    "range_end = round(0.849139 * total_cards)\n",
    "print(f\"The number of red cards in the deck is between {range_start} and {range_end}\")"
   ]
  },
  {
   "cell_type": "markdown",
   "id": "electric-scott",
   "metadata": {},
   "source": [
    "We are very confident that there are 44 red cards in the deck. Let's check if our solution is correct.\n",
    "\n",
    "**Validating the red card count**"
   ]
  },
  {
   "cell_type": "code",
   "execution_count": 436,
   "id": "outstanding-austria",
   "metadata": {},
   "outputs": [
    {
     "name": "stdout",
     "output_type": "stream",
     "text": [
      "We are correct! There are 44 red cards in the deck\n"
     ]
    }
   ],
   "source": [
    "if red_card_count == 44:\n",
    "    print(\"We are correct! There are 44 red cards in the deck\")\n",
    "else:\n",
    "    print(\"Oops! Our sampling estimation was wrong.\")"
   ]
  },
  {
   "cell_type": "markdown",
   "id": "classical-agenda",
   "metadata": {},
   "source": [
    "There are indeed 44 red cards in the deck. We were able to determine this without manually counting all the cards. Our use of random card-shuffle sampling and confidence interval calculations proved sufficient to uncover the solution.\n",
    "\n",
    "# 3.4  Using Permutations to Shuffle Cards\n",
    "\n",
    "Card-shuffling requires us to randomly re-order the elements of a card-deck. That random re-ordering can be carried out using the `np.random.shuffle` method. The method takes as input an ordered array or list, and shuffles its elements in place. The code below will randomly shuffle a deck of cards containing 2 red cards (represented by ones) and 2 black cards (represented by zeros).\n",
    "\n",
    "**Shuffling a 4-card deck**"
   ]
  },
  {
   "cell_type": "code",
   "execution_count": 446,
   "id": "collaborative-carry",
   "metadata": {},
   "outputs": [
    {
     "name": "stdout",
     "output_type": "stream",
     "text": [
      "[0, 0, 1, 1]\n"
     ]
    }
   ],
   "source": [
    "np.random.seed(0)\n",
    "card_deck = [1, 1, 0, 0]\n",
    "np.random.shuffle(card_deck)\n",
    "print(card_deck)"
   ]
  },
  {
   "cell_type": "markdown",
   "id": "necessary-vampire",
   "metadata": {},
   "source": [
    "The shuffle method has re-arranged the elements within card_deck. If we prefer to carry out the shuffle while retaining a copy of the original unshuffled deck, we can do so using `np.random.permutation`. The method returns a NumPy array containing a random ordering of cards. Meanwhile, the elements of the original inputted deck remain unchanged.\n",
    "\n",
    "**Returning a copy of the shuffled deck**"
   ]
  },
  {
   "cell_type": "code",
   "execution_count": 451,
   "id": "continent-torture",
   "metadata": {},
   "outputs": [
    {
     "name": "stdout",
     "output_type": "stream",
     "text": [
      "[0 0 1 1]\n"
     ]
    }
   ],
   "source": [
    "np.random.seed(0)\n",
    "unshuffled_deck = [1, 1, 0, 0]\n",
    "shuffled_deck = np.random.permutation(unshuffled_deck)\n",
    "assert unshuffled_deck == [1, 1, 0, 0]\n",
    "print(shuffled_deck)"
   ]
  },
  {
   "cell_type": "markdown",
   "id": "forbidden-flooring",
   "metadata": {},
   "source": [
    "The random ordering of elements returned by np.random.permutation is mathematically called a **permutation**. Random permutations will vary from the original ordering most of the time. On rare occasions, they might equal the original, unshuffled permutation. What is the probability that a shuffled permuation will exactly equal `unshuffled_deck`?\n",
    "\n",
    "We can of course find out through sampling. However, the four-element deck is small enough for us to analyze the problem using sample spaces. Composing the sample space will require us to cycle through all possible permutations of the deck. We can do so using the `itertools.permutations` method. Calling `itertools.permutations(unshuffled_deck)` will return an iterable over every possible permutation of the deck. Let's use the method to output the first 3 permutations. Please note that these 3 permutions will be printed as Python tuples, not as arrays or lists. Tuples, unlike arrays or lists, cannot be modified in place. They are represented using parentheses.\n",
    "\n",
    "**Iterating over card permutations**"
   ]
  },
  {
   "cell_type": "code",
   "execution_count": 452,
   "id": "brutal-outside",
   "metadata": {},
   "outputs": [
    {
     "name": "stdout",
     "output_type": "stream",
     "text": [
      "(1, 1, 0, 0)\n",
      "(1, 1, 0, 0)\n",
      "(1, 0, 1, 0)\n"
     ]
    }
   ],
   "source": [
    "import itertools\n",
    "\n",
    "for permutation in list(itertools.permutations(unshuffled_deck))[:3]:\n",
    "    print(permutation)"
   ]
  },
  {
   "cell_type": "markdown",
   "id": "earlier-millennium",
   "metadata": {},
   "source": [
    "The first 2 generated permutations are identical to each other. Why is that the case? Well, the first permutation is just the original unshuffled_deck with no rearranged elements. Meanwhile, the second permutation was generated by swapping the third and fourth elements of the first permutation. However, both those elements were zeroes, so the swap did not impact the list. We can confirm the swap actually took place by examining the first three permutations of `[0, 1, 2, 3]`.\n",
    "\n",
    "**Monitoring permutation swaps**"
   ]
  },
  {
   "cell_type": "code",
   "execution_count": 454,
   "id": "synthetic-earthquake",
   "metadata": {},
   "outputs": [
    {
     "name": "stdout",
     "output_type": "stream",
     "text": [
      "(0, 1, 2, 3)\n",
      "(0, 1, 3, 2)\n",
      "(0, 2, 1, 3)\n"
     ]
    }
   ],
   "source": [
    "for permutation in list(itertools.permutations([0, 1, 2, 3]))[:3]:\n",
    "    print(permutation)"
   ]
  },
  {
   "cell_type": "markdown",
   "id": "sacred-huntington",
   "metadata": {},
   "source": [
    "Certain permutations of the 4-card deck occur more than once. Thus, its reasonable to assume that certain permutations might occur more frequently than others. Let’s find out if this is the case by storing the permutation counts within a `weighted_sample_space` dictionary.\n",
    "\n",
    "**Computing permutation counts**"
   ]
  },
  {
   "cell_type": "code",
   "execution_count": 455,
   "id": "structural-thailand",
   "metadata": {},
   "outputs": [
    {
     "name": "stdout",
     "output_type": "stream",
     "text": [
      "Permutation (1, 1, 0, 0) occurs 4 times\n",
      "Permutation (1, 0, 1, 0) occurs 4 times\n",
      "Permutation (1, 0, 0, 1) occurs 4 times\n",
      "Permutation (0, 1, 1, 0) occurs 4 times\n",
      "Permutation (0, 1, 0, 1) occurs 4 times\n",
      "Permutation (0, 0, 1, 1) occurs 4 times\n"
     ]
    }
   ],
   "source": [
    "weighted_sample_space = defaultdict(int)\n",
    "for permutation in itertools.permutations(unshuffled_deck):\n",
    "    weighted_sample_space[permutation] += 1\n",
    "\n",
    "for permutation, count in weighted_sample_space.items():\n",
    "    print(f\"Permutation {permutation} occurs {count} times\")"
   ]
  },
  {
   "cell_type": "markdown",
   "id": "awful-accessory",
   "metadata": {},
   "source": [
    "All the permutations occur with equal frequency. Consequently, all the arrangements of the four cards are equally likely to occur. A weighted sample space is therefore not required. An unweighted sample space equal to `set(itertools.permutations(unshuffled_deck))` should be sufficient to resolve the problem.\n",
    "\n",
    "**Computing permutation probabilities**"
   ]
  },
  {
   "cell_type": "code",
   "execution_count": 457,
   "id": "surprised-favorite",
   "metadata": {},
   "outputs": [
    {
     "name": "stdout",
     "output_type": "stream",
     "text": [
      "Probability that a shuffle does not alter the deck is 0.16666666666666666\n"
     ]
    }
   ],
   "source": [
    "sample_space = set(itertools.permutations(unshuffled_deck))\n",
    "event_condition = lambda x: list(x) == unshuffled_deck\n",
    "prob = compute_event_probability(event_condition, sample_space)\n",
    "assert prob == 1 / len(sample_space)\n",
    "print(f\"Probability that a shuffle does not alter the deck is {prob}\")"
   ]
  },
  {
   "cell_type": "markdown",
   "id": "stainless-ethernet",
   "metadata": {},
   "source": [
    "Suppose we are handed a generic `unshuffled_deck` of size N containing N/2 red cards. Mathematically, it can be shown that all the color permutations of the deck will occur with equal likelihood. Thus, we can compute probabilities directly from the unweighted sample space of the deck. Unfortunately, creating this sample space is not feasible for a deck of 52 cards, since its number of possible permutations is astronomically large. In fact, that permutation count is equal to 8.06 * 1067. This enormous quantity is larger than the count of atoms on Earth. If we attempted to compute a 52-card sample space, then our program would run for many days before eventually running out of memory. However, such a sample space could easily be computed for smaller deck of size 10.\n",
    "\n",
    "**Computing a 10-card sample space**"
   ]
  },
  {
   "cell_type": "code",
   "execution_count": 458,
   "id": "relevant-geometry",
   "metadata": {},
   "outputs": [
    {
     "name": "stdout",
     "output_type": "stream",
     "text": [
      "Sample space for a 10-card deck contains 252 elements\n"
     ]
    }
   ],
   "source": [
    "red_cards = 5 * [1]\n",
    "black_cards = 5 * [0]\n",
    "unshuffled_deck = red_cards + black_cards\n",
    "sample_space = set(itertools.permutations(unshuffled_deck))\n",
    "print(f\"Sample space for a 10-card deck contains {len(sample_space)} elements\")"
   ]
  },
  {
   "cell_type": "markdown",
   "id": "surrounded-enlargement",
   "metadata": {},
   "source": [
    "We have been tasked with finding the best strategy for drawing a red card. The 10-card `sample_space` set could prove useful in these efforts. The set allows us to compute the probabilities of various competing strategies directly. We can thus rank our strategies based on their 10-card deck performance and then apply the top-ranking strategies to a 52 card deck.\n",
    "\n",
    "## 3.5  Summary\n",
    "\n",
    "- The `np.random.binomial` method can simulate random coin-flips. The method gets its name from the Binomial distribution, which is a generic distribution that captures coin-flip probabilities.\n",
    "- When a coin is flipped repeatedly, its frequency of heads converges towards the actual probability of heads. However, the final frequency might differ slightly from the actual probability.\n",
    "- We can visualize the variability of recorded coin-flip frequencies by plotting a histogram. A histogram shows binned counts of observed numeric values. The counts can be transformed into relative likelihoods, so that the area beneath the histogram sums to 1. Effectively, the transformed histogram becomes a probability distribution. The area around the distribution’s peak represents a confidence interval. A confidence interval is the likelihood that an unknown probability falls within a certain frequency range. Generally, we prefer a confidence interval that is at 95% or higher.\n",
    "- The shape of a frequency histogram will resemble a bell-shaped curve when the number of sampled frequencies is high. This curve is commonly referred to as the Bell curve, or the Normal distribution. According to the Central Limit Theorem, the 95% confidence interval associated with the Bell curve will grow more narrow as the size of each frequency sample goes up.\n",
    "- Simulated card shuffles can be carried out using the `np.random.permutation` method. The method returns a random permutation of the inputted deck of cards. The permutation represents a random ordering of card elements. We can iterate over every possible permutation by calling `itertools.permutations`. Iterating over all the permutations for a 52 card deck is computationally impossible. However, we can easily capture all the permutations of a smaller 10-card deck. These permutations can be used to compute the small deck’s sample space."
   ]
  }
 ],
 "metadata": {
  "kernelspec": {
   "display_name": "Python 3",
   "language": "python",
   "name": "python3"
  },
  "language_info": {
   "codemirror_mode": {
    "name": "ipython",
    "version": 3
   },
   "file_extension": ".py",
   "mimetype": "text/x-python",
   "name": "python",
   "nbconvert_exporter": "python",
   "pygments_lexer": "ipython3",
   "version": "3.8.6"
  }
 },
 "nbformat": 4,
 "nbformat_minor": 5
}

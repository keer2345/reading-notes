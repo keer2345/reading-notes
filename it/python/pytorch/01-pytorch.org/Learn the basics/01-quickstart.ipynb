{
 "cells": [
  {
   "cell_type": "markdown",
   "id": "bcf3a19a-950e-4415-82fd-b8710576406d",
   "metadata": {},
   "source": [
    "# [Quickstart](https://pytorch.org/tutorials/beginner/basics/quickstart_tutorial.html)\n",
    "\n",
    "## 参考\n",
    "- [PyTorch深度学习（三）：Fashion-MNIST 数据集介绍](https://blog.csdn.net/weixin_48261286/article/details/121195427)\n",
    "\n",
    "## Working with data\n",
    "\n",
    "PyTorch has two primitives to work with data:\n",
    "- `torch.utils.data.DataLoader`\n",
    "- `torch.utils.data.Dataset`"
   ]
  },
  {
   "cell_type": "code",
   "execution_count": 3,
   "id": "d2720f7e-cef8-46d4-bc99-96b732590e17",
   "metadata": {},
   "outputs": [],
   "source": [
    "import torch\n",
    "from torch import nn\n",
    "from torch.utils.data import DataLoader\n",
    "from torchvision import datasets\n",
    "from torchvision.transforms import ToTensor"
   ]
  },
  {
   "cell_type": "markdown",
   "id": "e130ab82-3641-487e-9d53-15363757e33e",
   "metadata": {},
   "source": [
    "PyTorch offers domain-specific libraries such as [TorchText](https://pytorch.org/text/stable/index.html), [TorchVision](https://pytorch.org/vision/stable/index.html), and [TorchAudio](https://pytorch.org/audio/stable/index.html), all of which include datasets. For this tutorial, we will be using a TorchVision dataset."
   ]
  },
  {
   "cell_type": "code",
   "execution_count": 4,
   "id": "42d1a511-a02b-4e0e-a2a6-4820492dc59e",
   "metadata": {},
   "outputs": [],
   "source": [
    "# Download training data from open datasets.\n",
    "training_data = datasets.FashionMNIST(\n",
    "    root=\"data\",\n",
    "    train=True,\n",
    "    download=True,\n",
    "    transform=ToTensor(), # 将格式归一化为张量\n",
    ")\n",
    "\n",
    "# Download test data from open datasets.\n",
    "test_data = datasets.FashionMNIST(\n",
    "    root=\"data\",\n",
    "    train=False,\n",
    "    download=True,\n",
    "    transform=ToTensor(),\n",
    ")"
   ]
  },
  {
   "cell_type": "code",
   "execution_count": 5,
   "id": "a41a4380-693d-47a3-8e55-9bd871875588",
   "metadata": {},
   "outputs": [
    {
     "name": "stdout",
     "output_type": "stream",
     "text": [
      "60000, 10000\n"
     ]
    }
   ],
   "source": [
    "# 显示训练集和测试集的大小\n",
    "print(str(len(training_data)) + ', ' + str(len(test_data)))"
   ]
  },
  {
   "cell_type": "code",
   "execution_count": 6,
   "id": "3ee0fbf1-4aa5-4794-a241-654444b1d7cc",
   "metadata": {},
   "outputs": [
    {
     "name": "stdout",
     "output_type": "stream",
     "text": [
      "shape:  torch.Size([1, 28, 28]) label:  5\n"
     ]
    }
   ],
   "source": [
    "# 图片的形状 (channel, height, width) 为 (1,28,28)：\n",
    "print(\"shape: \", training_data[59999][0].shape, \"label: \", training_data[59999][1])"
   ]
  },
  {
   "cell_type": "code",
   "execution_count": 7,
   "id": "3a302e8a-30a6-40ba-8731-608c250aa659",
   "metadata": {},
   "outputs": [
    {
     "name": "stdout",
     "output_type": "stream",
     "text": [
      "Shape of X [N, C, H, W]: torch.Size([64, 1, 28, 28])\n",
      "Shape of y: torch.Size([64]) torch.int64\n"
     ]
    }
   ],
   "source": [
    "batch_size = 64\n",
    "\n",
    "# Create data loaders.\n",
    "train_dataloader = DataLoader(training_data, batch_size=batch_size)\n",
    "test_dataloader = DataLoader(test_data, batch_size=batch_size)\n",
    "\n",
    "for X, y in test_dataloader:\n",
    "    print(f\"Shape of X [N, C, H, W]: {X.shape}\")\n",
    "    print(f\"Shape of y: {y.shape} {y.dtype}\")\n",
    "    break"
   ]
  },
  {
   "cell_type": "markdown",
   "id": "9783c387-da14-445d-af44-6bc2c872a759",
   "metadata": {},
   "source": [
    "## Creating Models"
   ]
  }
 ],
 "metadata": {
  "kernelspec": {
   "display_name": "Python 3 (ipykernel)",
   "language": "python",
   "name": "python3"
  },
  "language_info": {
   "codemirror_mode": {
    "name": "ipython",
    "version": 3
   },
   "file_extension": ".py",
   "mimetype": "text/x-python",
   "name": "python",
   "nbconvert_exporter": "python",
   "pygments_lexer": "ipython3",
   "version": "3.10.12"
  }
 },
 "nbformat": 4,
 "nbformat_minor": 5
}
